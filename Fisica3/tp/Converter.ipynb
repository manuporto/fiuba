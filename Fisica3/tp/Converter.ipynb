{
 "cells": [
  {
   "cell_type": "code",
   "execution_count": 134,
   "metadata": {
    "collapsed": true
   },
   "outputs": [],
   "source": [
    "\n",
    "import pandas as pd\n",
    "import numpy as np\n",
    "import matplotlib\n",
    "import math\n",
    "from matplotlib import pyplot as plt\n",
    "%matplotlib inline"
   ]
  },
  {
   "cell_type": "code",
   "execution_count": 135,
   "metadata": {
    "collapsed": false
   },
   "outputs": [
    {
     "name": "stdout",
     "output_type": "stream",
     "text": [
      "   No   Time DC/AC  Value Unit  AUTO\n",
      "0  41  69552    DC   -0.1   uA  AUTO\n",
      "1  42  69552    DC   -0.1   uA  AUTO\n",
      "2  43  69553    DC   -0.1   uA  AUTO\n",
      "3  44  69553    DC   -0.1   uA  AUTO\n",
      "4  45  69553    DC   -0.1   uA  AUTO\n"
     ]
    }
   ],
   "source": [
    "def time_convert(x):\n",
    "    times = x.split(':')\n",
    "    return (60*int(times[0])+int(times[1]))*60+int(times[2])\n",
    "df = pd.read_csv('4.csv', converters={'Time': time_convert})\n",
    "print(df.head(5))"
   ]
  },
  {
   "cell_type": "code",
   "execution_count": 136,
   "metadata": {
    "collapsed": false
   },
   "outputs": [
    {
     "name": "stdout",
     "output_type": "stream",
     "text": [
      "   No  Time DC/AC  Value Unit  AUTO\n",
      "0   0     0    DC   -0.1   uA  AUTO\n",
      "1   1     0    DC   -0.1   uA  AUTO\n"
     ]
    }
   ],
   "source": [
    "# Run only once! Replace numbers with min time and min no\n",
    "df['Time'] = df['Time'].apply(lambda x: x - 69552)\n",
    "df['No'] = df['No'].apply(lambda x: x - 41)\n",
    "print(df.head(2))"
   ]
  },
  {
   "cell_type": "code",
   "execution_count": 137,
   "metadata": {
    "collapsed": false
   },
   "outputs": [],
   "source": [
    "c = df.groupby('Time')['Value'].mean()\n",
    "values = pd.DataFrame(c)\n",
    "values['Time'] = range(0, len(values['Value']))\n",
    "#values.to_csv('4_ftl.csv')"
   ]
  },
  {
   "cell_type": "code",
   "execution_count": 139,
   "metadata": {
    "collapsed": false
   },
   "outputs": [
    {
     "name": "stdout",
     "output_type": "stream",
     "text": [
      "            Value  Time        Va\n",
      "Time                             \n",
      "73     581.000000    73  0.400001\n",
      "74     617.500000    74  0.400001\n",
      "75     645.000000    75  0.400001\n",
      "76     673.000000    76  0.400001\n",
      "77     710.000000    77  0.400001\n",
      "78     746.500000    78  0.400001\n",
      "79     783.500000    79  0.400001\n",
      "80     817.333333    80  0.400001\n",
      "81     842.000000    81  0.400001\n",
      "82     875.000000    82  0.400001\n",
      "83     910.500000    83  0.400001\n",
      "84     945.500000    84  0.400001\n",
      "85     980.000000    85  0.400001\n",
      "86    1006.000000    86  0.400001\n",
      "87    1022.000000    87  0.400001\n"
     ]
    }
   ],
   "source": [
    "rstnce = 10 * math.pow(10,6)\n",
    "cpctor = 2200 * math.pow(10,-6)\n",
    "values['Va'] = values.apply(lambda x: 40* (1 - 0.99 * math.e**(-x['Time']/rstnce*cpctor)), axis=1)\n",
    "print(values.tail(15))"
   ]
  },
  {
   "cell_type": "code",
   "execution_count": 121,
   "metadata": {
    "collapsed": false
   },
   "outputs": [
    {
     "data": {
      "text/plain": [
       "<matplotlib.text.Text at 0x7f0d0bacfac8>"
      ]
     },
     "execution_count": 121,
     "metadata": {},
     "output_type": "execute_result"
    },
    {
     "data": {
      "image/png": "[encoded data removed]",
      "text/plain": [
       "<matplotlib.figure.Figure at 0x7f0d0baae2b0>"
      ]
     },
     "metadata": {},
     "output_type": "display_data"
    }
   ],
   "source": [
    "ax = values.plot.scatter(xlim=0, ylim=0, x='Va', y='Value')\n",
    "ax.set_xlabel('Tiempo (s)')\n",
    "ax.set_ylabel(r'Corriente $\\mu A$')"
   ]
  },
  {
   "cell_type": "code",
   "execution_count": null,
   "metadata": {
    "collapsed": true
   },
   "outputs": [],
   "source": []
  }
 ],
 "metadata": {
  "kernelspec": {
   "display_name": "Python 3",
   "language": "python",
   "name": "python3"
  },
  "language_info": {
   "codemirror_mode": {
    "name": "ipython",
    "version": 3
   },
   "file_extension": ".py",
   "mimetype": "text/x-python",
   "name": "python",
   "nbconvert_exporter": "python",
   "pygments_lexer": "ipython3",
   "version": "3.4.3"
  }
 },
 "nbformat": 4,
 "nbformat_minor": 1
}
